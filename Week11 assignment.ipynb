{
 "cells": [
  {
   "cell_type": "markdown",
   "metadata": {},
   "source": [
    "The goal of this project is to gather data from a Covid-19 data-gathering website, filter the data, set up a script to pull up data based off the country name and schedule a way to update the data.  This project was completed not just by myself, but the cohort that I am in which currently consists of 10+ personnel."
   ]
  },
  {
   "cell_type": "markdown",
   "metadata": {},
   "source": [
    "The code below was written in Python3 in my Raspberry Pi, but can be used on any Python platform, such as Juypter Notebook.  Also this can be joined with Linux, depending on how you utilize your platforms.  But the code below is complex, with multiple functions, datetime manipulations in which the end is to be able to use the Linux terminal to type a country name and it pull the data from the dataset."
   ]
  },
  {
   "cell_type": "code",
   "execution_count": null,
   "metadata": {},
   "outputs": [],
   "source": [
    "from csv import reader\n",
    "import sys\n",
    "import datetime as dt\n",
    "\n",
    "def parse_cmd_args(args):\n",
    "    country_list = args[1:]\n",
    "    return country_list\n",
    "\n",
    "def read_data(filename):\n",
    "    opened_file = open(filename)\n",
    "    read_file = reader(opened_file)\n",
    "    data = list(read_file)\n",
    "    data_dict = {'header': data[0], 'data': data[1:]}\n",
    "    return data_dict\n",
    "\n",
    "def extract_data(country, data_dict):\n",
    "    country_data = []\n",
    "    for row in data_dict['data']:\n",
    "        if row[1] == country:\n",
    "            country_data.append(row)\n",
    "    current_date  = dt.datetime.strptime(country_data[-1][0], '%Y-%m-%d')\n",
    "    final_date = current_date.strftime(\"%B %d, %Y\")\n",
    "    print(\"This is the data for: \"+final_date)\n",
    "    print(\"Total cases are: \",country_data[-1][4])\n",
    "    print(\"Total deaths are: \",country_data[-1][5])\n",
    "    print(\"Death rate is: \",round((int(country_data[-1][5]) / int(country_data[-1][4])) * 100, 2),\"%\")\n",
    "    print(\"New cases are: \",country_data[-1][2])\n",
    "\n",
    "\n",
    "if __name__ == '__main__':\n",
    "\n",
    "    country_list = parse_cmd_args(sys.argv)\n",
    "    data_dict = read_data('full_data.csv')\n",
    "    for i in country_list:\n",
    "        print('Stats for {}:'.format(i))\n",
    "        extract_data(i, data_dict)\n",
    "        print('\\n'\n"
   ]
  },
  {
   "cell_type": "markdown",
   "metadata": {},
   "source": [
    "The text below is run in Linux.  This is the code to create the bash script which the dataset is\n",
    "driven from.  After this is created, the bash script is put into a scheduling tool named Crontab\n",
    "which you can set a time to when the dataset will be updated based off the website."
   ]
  },
  {
   "cell_type": "code",
   "execution_count": null,
   "metadata": {},
   "outputs": [],
   "source": [
    "#!/bin/bash\n",
    "cd ~/datax/covid19\n",
    "curl -O https://covid.ourworldindata.org/data/ecdc/full_data.csv\n",
    "python3 covid19.py China \"United States\" | xargs echo > china_logs.txt\n"
   ]
  }
 ],
 "metadata": {
  "kernelspec": {
   "display_name": "Python 3",
   "language": "python",
   "name": "python3"
  }
 },
 "nbformat": 4,
 "nbformat_minor": 2
}
